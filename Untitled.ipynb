{
 "cells": [
  {
   "cell_type": "code",
   "execution_count": 1,
   "id": "9535fe39-c85b-4987-9768-9ff1fd47c3f6",
   "metadata": {},
   "outputs": [],
   "source": [
    "import os"
   ]
  },
  {
   "cell_type": "code",
   "execution_count": 24,
   "id": "bd523e03-82bf-467f-b186-6952cf5fa064",
   "metadata": {},
   "outputs": [],
   "source": [
    "DATASET_DIR = os.path.expanduser('/home/masuma/Desktop/Bisal_2314096/Chisco/Chisco/derivatives/preprocessed_pkl')\n",
    "DATASET_DIR1 = os.path.expanduser('/home/masuma/Desktop/Bisal_2314096/Chisco/Chisco/derivatives')"
   ]
  },
  {
   "cell_type": "code",
   "execution_count": 25,
   "id": "3114e774-7b18-4cbf-88cd-e02a85ebc7f2",
   "metadata": {},
   "outputs": [
    {
     "data": {
      "text/plain": [
       "3"
      ]
     },
     "execution_count": 25,
     "metadata": {},
     "output_type": "execute_result"
    }
   ],
   "source": [
    "1+2"
   ]
  },
  {
   "cell_type": "code",
   "execution_count": 26,
   "id": "a2b9ff0e-0158-4747-a7f2-8fac8c81fe31",
   "metadata": {},
   "outputs": [
    {
     "data": {
      "text/plain": [
       "'/home/masuma/Desktop/Bisal_2314096/Chisco/Chisco/derivatives/preprocessed_pkl'"
      ]
     },
     "execution_count": 26,
     "metadata": {},
     "output_type": "execute_result"
    }
   ],
   "source": [
    "DATASET_DIR"
   ]
  },
  {
   "cell_type": "code",
   "execution_count": 27,
   "id": "2ea4f9f9-bc80-4f80-bf9a-5f2baa8b76d4",
   "metadata": {},
   "outputs": [
    {
     "data": {
      "text/plain": [
       "'/home/masuma/Desktop/Bisal_2314096/Chisco/Chisco/derivatives'"
      ]
     },
     "execution_count": 27,
     "metadata": {},
     "output_type": "execute_result"
    }
   ],
   "source": [
    "DATASET_DIR1"
   ]
  },
  {
   "cell_type": "code",
   "execution_count": 22,
   "id": "95adad19-556e-47f2-9288-f49107db3934",
   "metadata": {},
   "outputs": [],
   "source": [
    "SUBJECT1 = \"01\"\n",
    "SUBJECT2 = \"02\"\n",
    "SUBJECT3 = \"03\"\n",
    "TASK = \"imagine\" # or \"read\""
   ]
  },
  {
   "cell_type": "code",
   "execution_count": 28,
   "id": "8e24397f-1ba0-461e-b976-fa6c6fc0d8ca",
   "metadata": {},
   "outputs": [
    {
     "name": "stdout",
     "output_type": "stream",
     "text": [
      "['sub-01_task-read_run-039_eeg.pkl', 'sub-01_task-imagine_run-04_eeg.pkl', 'sub-01_task-imagine_run-025_eeg.pkl', 'sub-01_task-read_run-019_eeg.pkl', 'sub-01_task-read_run-09_eeg.pkl', 'sub-01_task-read_run-044_eeg.pkl', 'sub-01_task-read_run-01_eeg.pkl', 'sub-01_task-read_run-06_eeg.pkl', 'sub-01_task-read_run-042_eeg.pkl', 'sub-01_task-read_run-037_eeg.pkl', 'sub-01_task-read_run-036_eeg.pkl', 'sub-01_task-imagine_run-034_eeg.pkl', 'sub-01_task-read_run-023_eeg.pkl', 'sub-01_task-read_run-017_eeg.pkl', 'sub-01_task-read_run-014_eeg.pkl', 'sub-01_task-read_run-040_eeg.pkl', 'sub-01_task-read_run-05_eeg.pkl', 'sub-01_task-imagine_run-02_eeg.pkl', 'sub-01_task-imagine_run-029_eeg.pkl', 'sub-01_task-imagine_run-014_eeg.pkl', 'sub-01_task-imagine_run-044_eeg.pkl', 'sub-01_task-read_run-03_eeg.pkl', 'sub-01_task-imagine_run-018_eeg.pkl', 'sub-01_task-imagine_run-015_eeg.pkl', 'sub-01_task-imagine_run-06_eeg.pkl', 'sub-01_task-imagine_run-033_eeg.pkl', 'sub-01_task-read_run-031_eeg.pkl', 'sub-01_task-read_run-045_eeg.pkl', 'sub-01_task-read_run-035_eeg.pkl', 'sub-01_task-imagine_run-023_eeg.pkl', 'sub-01_task-imagine_run-039_eeg.pkl', 'sub-01_task-imagine_run-032_eeg.pkl', 'sub-01_task-imagine_run-037_eeg.pkl', 'sub-01_task-imagine_run-07_eeg.pkl', 'sub-01_task-read_run-02_eeg.pkl', 'sub-01_task-read_run-015_eeg.pkl', 'sub-01_task-imagine_run-016_eeg.pkl', 'sub-01_task-imagine_run-038_eeg.pkl', 'sub-01_task-imagine_run-045_eeg.pkl', 'sub-01_task-read_run-034_eeg.pkl', 'sub-01_task-imagine_run-020_eeg.pkl', 'sub-01_task-read_run-032_eeg.pkl', 'sub-01_task-read_run-022_eeg.pkl', 'sub-01_task-imagine_run-08_eeg.pkl', 'sub-01_task-read_run-026_eeg.pkl', 'sub-01_task-read_run-010_eeg.pkl', 'sub-01_task-read_run-013_eeg.pkl', 'sub-01_task-imagine_run-013_eeg.pkl', 'sub-01_task-imagine_run-021_eeg.pkl', 'sub-01_task-read_run-025_eeg.pkl', 'sub-01_task-read_run-011_eeg.pkl', 'sub-01_task-read_run-024_eeg.pkl', 'sub-01_task-read_run-020_eeg.pkl', 'sub-01_task-imagine_run-041_eeg.pkl', 'sub-01_task-imagine_run-024_eeg.pkl', 'sub-01_task-read_run-038_eeg.pkl', 'sub-01_task-imagine_run-010_eeg.pkl', 'sub-01_task-read_run-012_eeg.pkl', 'sub-01_task-read_run-08_eeg.pkl', 'sub-01_task-read_run-018_eeg.pkl', 'sub-01_task-imagine_run-042_eeg.pkl', 'sub-01_task-read_run-04_eeg.pkl', 'sub-01_task-imagine_run-030_eeg.pkl', 'sub-01_task-imagine_run-019_eeg.pkl', 'sub-01_task-imagine_run-012_eeg.pkl', 'sub-01_task-read_run-030_eeg.pkl', 'sub-01_task-imagine_run-09_eeg.pkl', 'sub-01_task-read_run-043_eeg.pkl', 'sub-01_task-imagine_run-040_eeg.pkl', 'sub-01_task-read_run-033_eeg.pkl', 'sub-01_task-read_run-027_eeg.pkl', 'sub-01_task-read_run-028_eeg.pkl', 'sub-01_task-read_run-021_eeg.pkl', 'sub-01_task-imagine_run-017_eeg.pkl', 'sub-01_task-read_run-041_eeg.pkl', 'sub-01_task-imagine_run-011_eeg.pkl', 'sub-01_task-read_run-07_eeg.pkl', 'sub-01_task-imagine_run-036_eeg.pkl', 'sub-01_task-imagine_run-022_eeg.pkl', 'sub-01_task-imagine_run-043_eeg.pkl', 'sub-01_task-read_run-016_eeg.pkl', 'sub-01_task-imagine_run-05_eeg.pkl', 'sub-01_task-read_run-029_eeg.pkl', 'sub-01_task-imagine_run-01_eeg.pkl', 'sub-01_task-imagine_run-026_eeg.pkl', 'sub-01_task-imagine_run-027_eeg.pkl', 'sub-01_task-imagine_run-03_eeg.pkl', 'sub-01_task-imagine_run-031_eeg.pkl', 'sub-01_task-imagine_run-035_eeg.pkl', 'sub-01_task-imagine_run-028_eeg.pkl']\n",
      "['sub-02_task-read_run-018_eeg.pkl', 'sub-02_task-read_run-045_eeg.pkl', 'sub-02_task-imagine_run-033_eeg.pkl', 'sub-02_task-read_run-019_eeg.pkl', 'sub-02_task-read_run-029_eeg.pkl', 'sub-02_task-read_run-025_eeg.pkl', 'sub-02_task-imagine_run-030_eeg.pkl', 'sub-02_task-read_run-035_eeg.pkl', 'sub-02_task-read_run-023_eeg.pkl', 'sub-02_task-imagine_run-05_eeg.pkl', 'sub-02_task-read_run-021_eeg.pkl', 'sub-02_task-imagine_run-043_eeg.pkl', 'sub-02_task-imagine_run-019_eeg.pkl', 'sub-02_task-imagine_run-015_eeg.pkl', 'sub-02_task-read_run-016_eeg.pkl', 'sub-02_task-imagine_run-04_eeg.pkl', 'sub-02_task-read_run-043_eeg.pkl', 'sub-02_task-imagine_run-018_eeg.pkl', 'sub-02_task-imagine_run-07_eeg.pkl', 'sub-02_task-imagine_run-045_eeg.pkl', 'sub-02_task-read_run-027_eeg.pkl', 'sub-02_task-imagine_run-011_eeg.pkl', 'sub-02_task-imagine_run-03_eeg.pkl', 'sub-02_task-imagine_run-016_eeg.pkl', 'sub-02_task-imagine_run-010_eeg.pkl', 'sub-02_task-imagine_run-035_eeg.pkl', 'sub-02_task-read_run-031_eeg.pkl', 'sub-02_task-read_run-037_eeg.pkl', 'sub-02_task-read_run-030_eeg.pkl', 'sub-02_task-read_run-034_eeg.pkl', 'sub-02_task-imagine_run-020_eeg.pkl', 'sub-02_task-imagine_run-02_eeg.pkl', 'sub-02_task-read_run-039_eeg.pkl', 'sub-02_task-imagine_run-012_eeg.pkl', 'sub-02_task-imagine_run-022_eeg.pkl', 'sub-02_task-imagine_run-029_eeg.pkl', 'sub-02_task-read_run-017_eeg.pkl', 'sub-02_task-imagine_run-034_eeg.pkl', 'sub-02_task-imagine_run-044_eeg.pkl', 'sub-02_task-imagine_run-032_eeg.pkl', 'sub-02_task-read_run-040_eeg.pkl', 'sub-02_task-read_run-07_eeg.pkl', 'sub-02_task-imagine_run-025_eeg.pkl', 'sub-02_task-read_run-024_eeg.pkl', 'sub-02_task-read_run-012_eeg.pkl', 'sub-02_task-read_run-013_eeg.pkl', 'sub-02_task-imagine_run-021_eeg.pkl', 'sub-02_task-read_run-02_eeg.pkl', 'sub-02_task-read_run-04_eeg.pkl', 'sub-02_task-read_run-020_eeg.pkl', 'sub-02_task-imagine_run-042_eeg.pkl', 'sub-02_task-imagine_run-027_eeg.pkl', 'sub-02_task-imagine_run-036_eeg.pkl', 'sub-02_task-read_run-036_eeg.pkl', 'sub-02_task-read_run-041_eeg.pkl', 'sub-02_task-read_run-05_eeg.pkl', 'sub-02_task-read_run-028_eeg.pkl', 'sub-02_task-read_run-015_eeg.pkl', 'sub-02_task-imagine_run-031_eeg.pkl', 'sub-02_task-read_run-03_eeg.pkl', 'sub-02_task-read_run-022_eeg.pkl', 'sub-02_task-imagine_run-09_eeg.pkl', 'sub-02_task-imagine_run-014_eeg.pkl', 'sub-02_task-imagine_run-06_eeg.pkl', 'sub-02_task-read_run-032_eeg.pkl', 'sub-02_task-imagine_run-013_eeg.pkl', 'sub-02_task-read_run-014_eeg.pkl', 'sub-02_task-read_run-011_eeg.pkl', 'sub-02_task-read_run-06_eeg.pkl', 'sub-02_task-imagine_run-028_eeg.pkl', 'sub-02_task-imagine_run-041_eeg.pkl', 'sub-02_task-imagine_run-017_eeg.pkl', 'sub-02_task-read_run-010_eeg.pkl', 'sub-02_task-read_run-044_eeg.pkl', 'sub-02_task-read_run-01_eeg.pkl', 'sub-02_task-read_run-042_eeg.pkl', 'sub-02_task-read_run-026_eeg.pkl', 'sub-02_task-imagine_run-037_eeg.pkl', 'sub-02_task-imagine_run-023_eeg.pkl', 'sub-02_task-read_run-09_eeg.pkl', 'sub-02_task-imagine_run-08_eeg.pkl', 'sub-02_task-read_run-033_eeg.pkl', 'sub-02_task-imagine_run-040_eeg.pkl', 'sub-02_task-imagine_run-024_eeg.pkl', 'sub-02_task-read_run-038_eeg.pkl', 'sub-02_task-imagine_run-038_eeg.pkl', 'sub-02_task-imagine_run-01_eeg.pkl', 'sub-02_task-read_run-08_eeg.pkl', 'sub-02_task-imagine_run-026_eeg.pkl', 'sub-02_task-imagine_run-039_eeg.pkl']\n",
      "['sub-03_task-read_run-09_eeg.pkl', 'sub-03_task-read_run-01_eeg.pkl', 'sub-03_task-read_run-040_eeg.pkl', 'sub-03_task-read_run-034_eeg.pkl', 'sub-03_task-imagine_run-042_eeg.pkl', 'sub-03_task-read_run-018_eeg.pkl', 'sub-03_task-imagine_run-011_eeg.pkl', 'sub-03_task-read_run-011_eeg.pkl', 'sub-03_task-imagine_run-019_eeg.pkl', 'sub-03_task-imagine_run-07_eeg.pkl', 'sub-03_task-read_run-041_eeg.pkl', 'sub-03_task-imagine_run-041_eeg.pkl', 'sub-03_task-read_run-025_eeg.pkl', 'sub-03_task-read_run-043_eeg.pkl', 'sub-03_task-read_run-017_eeg.pkl', 'sub-03_task-read_run-03_eeg.pkl', 'sub-03_task-imagine_run-04_eeg.pkl', 'sub-03_task-read_run-027_eeg.pkl', 'sub-03_task-imagine_run-01_eeg.pkl', 'sub-03_task-imagine_run-020_eeg.pkl', 'sub-03_task-imagine_run-015_eeg.pkl', 'sub-03_task-imagine_run-038_eeg.pkl', 'sub-03_task-imagine_run-025_eeg.pkl', 'sub-03_task-read_run-037_eeg.pkl', 'sub-03_task-imagine_run-036_eeg.pkl', 'sub-03_task-imagine_run-030_eeg.pkl', 'sub-03_task-imagine_run-017_eeg.pkl', 'sub-03_task-imagine_run-027_eeg.pkl', 'sub-03_task-imagine_run-021_eeg.pkl', 'sub-03_task-read_run-030_eeg.pkl', 'sub-03_task-imagine_run-044_eeg.pkl', 'sub-03_task-read_run-028_eeg.pkl', 'sub-03_task-imagine_run-018_eeg.pkl', 'sub-03_task-imagine_run-032_eeg.pkl', 'sub-03_task-read_run-022_eeg.pkl', 'sub-03_task-read_run-05_eeg.pkl', 'sub-03_task-read_run-026_eeg.pkl', 'sub-03_task-imagine_run-028_eeg.pkl', 'sub-03_task-imagine_run-09_eeg.pkl', 'sub-03_task-read_run-044_eeg.pkl', 'sub-03_task-imagine_run-022_eeg.pkl', 'sub-03_task-read_run-010_eeg.pkl', 'sub-03_task-read_run-016_eeg.pkl', 'sub-03_task-read_run-035_eeg.pkl', 'sub-03_task-imagine_run-037_eeg.pkl', 'sub-03_task-read_run-02_eeg.pkl', 'sub-03_task-imagine_run-029_eeg.pkl', 'sub-03_task-read_run-032_eeg.pkl', 'sub-03_task-read_run-07_eeg.pkl', 'sub-03_task-read_run-014_eeg.pkl', 'sub-03_task-read_run-06_eeg.pkl', 'sub-03_task-read_run-031_eeg.pkl', 'sub-03_task-imagine_run-012_eeg.pkl', 'sub-03_task-imagine_run-031_eeg.pkl', 'sub-03_task-imagine_run-039_eeg.pkl', 'sub-03_task-read_run-08_eeg.pkl', 'sub-03_task-read_run-036_eeg.pkl', 'sub-03_task-imagine_run-023_eeg.pkl', 'sub-03_task-read_run-033_eeg.pkl', 'sub-03_task-read_run-045_eeg.pkl', 'sub-03_task-read_run-039_eeg.pkl', 'sub-03_task-imagine_run-043_eeg.pkl', 'sub-03_task-imagine_run-026_eeg.pkl', 'sub-03_task-imagine_run-040_eeg.pkl', 'sub-03_task-imagine_run-013_eeg.pkl', 'sub-03_task-read_run-023_eeg.pkl', 'sub-03_task-read_run-012_eeg.pkl', 'sub-03_task-read_run-029_eeg.pkl', 'sub-03_task-imagine_run-06_eeg.pkl', 'sub-03_task-imagine_run-02_eeg.pkl', 'sub-03_task-imagine_run-014_eeg.pkl', 'sub-03_task-imagine_run-010_eeg.pkl', 'sub-03_task-read_run-038_eeg.pkl', 'sub-03_task-read_run-021_eeg.pkl', 'sub-03_task-imagine_run-024_eeg.pkl', 'sub-03_task-imagine_run-03_eeg.pkl', 'sub-03_task-read_run-015_eeg.pkl', 'sub-03_task-read_run-020_eeg.pkl', 'sub-03_task-read_run-019_eeg.pkl', 'sub-03_task-imagine_run-033_eeg.pkl', 'sub-03_task-imagine_run-016_eeg.pkl', 'sub-03_task-imagine_run-034_eeg.pkl', 'sub-03_task-imagine_run-045_eeg.pkl', 'sub-03_task-read_run-042_eeg.pkl', 'sub-03_task-imagine_run-08_eeg.pkl', 'sub-03_task-read_run-04_eeg.pkl', 'sub-03_task-imagine_run-05_eeg.pkl', 'sub-03_task-read_run-013_eeg.pkl', 'sub-03_task-read_run-024_eeg.pkl', 'sub-03_task-imagine_run-035_eeg.pkl']\n",
      "['classnumber.json', 'textmaps.json']\n"
     ]
    }
   ],
   "source": [
    "EEG_DIR1 = os.path.join(DATASET_DIR, f\"sub-{SUBJECT1}\")\n",
    "EEG_DIR2 = os.path.join(DATASET_DIR, f\"sub-{SUBJECT2}\")\n",
    "EEG_DIR3 = os.path.join(DATASET_DIR, f\"sub-{SUBJECT3}\")\n",
    "JSON_DIR = os.path.join(DATASET_DIR1, \"json\")\n",
    "\n",
    "print(os.listdir(EEG_DIR1)[:90]) # confirm EEG .pkl files\n",
    "print(os.listdir(EEG_DIR2)[:90]) # confirm EEG .pkl files\n",
    "print(os.listdir(EEG_DIR3)[:90]) # confirm EEG .pkl files\n",
    "print(os.listdir(JSON_DIR)) # confirm textmaps.json and classnumber.json"
   ]
  },
  {
   "cell_type": "code",
   "execution_count": null,
   "id": "94aeed00-b840-499a-86cc-a187e040666c",
   "metadata": {},
   "outputs": [],
   "source": []
  },
  {
   "cell_type": "code",
   "execution_count": null,
   "id": "11279b87-8aa5-41e9-86e5-d8d453b40a4e",
   "metadata": {},
   "outputs": [],
   "source": []
  }
 ],
 "metadata": {
  "kernelspec": {
   "display_name": "Python 3 (ipykernel)",
   "language": "python",
   "name": "python3"
  },
  "language_info": {
   "codemirror_mode": {
    "name": "ipython",
    "version": 3
   },
   "file_extension": ".py",
   "mimetype": "text/x-python",
   "name": "python",
   "nbconvert_exporter": "python",
   "pygments_lexer": "ipython3",
   "version": "3.11.7"
  }
 },
 "nbformat": 4,
 "nbformat_minor": 5
}
